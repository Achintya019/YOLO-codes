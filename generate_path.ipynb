{
 "cells": [
  {
   "cell_type": "code",
   "execution_count": null,
   "metadata": {},
   "outputs": [],
   "source": [
    "image_path=\"/home/achintya-trn0175/Desktop/training/yolov10/data_idd_train_struct/x.jpg\""
   ]
  },
  {
   "cell_type": "code",
   "execution_count": 2,
   "metadata": {},
   "outputs": [],
   "source": [
    "# Define the base directory path\n",
    "base_dir = \"/home/achintya-trn0175/Desktop/training/yolov10/data_idd_train_struct/data_idd_val_struct/\"\n",
    "\n",
    "# Define the output file path\n",
    "output_file = f\"{base_dir}val.txt\"\n",
    "\n",
    "# Open the output file in write mode\n",
    "with open(output_file, \"w\") as file:\n",
    "    # Iterate from 1 to 315659\n",
    "    for x in range(1, 10226):\n",
    "        # Generate the file path\n",
    "        file_path = f\"{base_dir}{x}.jpg\"\n",
    "        \n",
    "        # Write the file path to the output file\n",
    "        file.write(file_path + \"\\n\")\n"
   ]
  }
 ],
 "metadata": {
  "kernelspec": {
   "display_name": "yolo",
   "language": "python",
   "name": "python3"
  },
  "language_info": {
   "codemirror_mode": {
    "name": "ipython",
    "version": 3
   },
   "file_extension": ".py",
   "mimetype": "text/x-python",
   "name": "python",
   "nbconvert_exporter": "python",
   "pygments_lexer": "ipython3",
   "version": "3.8.-1"
  }
 },
 "nbformat": 4,
 "nbformat_minor": 2
}
